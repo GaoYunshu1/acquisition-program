{
 "cells": [
  {
   "cell_type": "code",
   "execution_count": 3,
   "metadata": {},
   "outputs": [],
   "source": [
    "import imagingcontrol4 as ic4"
   ]
  },
  {
   "cell_type": "code",
   "execution_count": 4,
   "metadata": {},
   "outputs": [],
   "source": [
    "ic4.Library.init()"
   ]
  },
  {
   "cell_type": "code",
   "execution_count": 5,
   "metadata": {},
   "outputs": [
    {
     "data": {
      "text/plain": [
       "[DeviceInfo(model_name='DMM 37UX178-ML', serial='19814505', version='IMX178_M.MX/1895/910 USB3mx-IMX178/18')]"
      ]
     },
     "execution_count": 5,
     "metadata": {},
     "output_type": "execute_result"
    }
   ],
   "source": [
    "ic4.DeviceEnum.devices()"
   ]
  },
  {
   "cell_type": "code",
   "execution_count": 6,
   "metadata": {},
   "outputs": [],
   "source": [
    "grabber = ic4.Grabber()\n",
    "\n",
    "# Open the first available video capture device\n",
    "first_device_info = ic4.DeviceEnum.devices()[0]\n",
    "grabber.device_open(first_device_info)"
   ]
  },
  {
   "cell_type": "code",
   "execution_count": 7,
   "metadata": {},
   "outputs": [],
   "source": [
    "grabber.device_property_map.set_value(ic4.PropId.PIXEL_FORMAT, ic4.PixelFormat.Mono16)\n",
    "\n",
    "# Set the resolution to 640x480\n",
    "grabber.device_property_map.set_value(ic4.PropId.WIDTH, 1024)\n",
    "grabber.device_property_map.set_value(ic4.PropId.HEIGHT, 1024)"
   ]
  },
  {
   "cell_type": "code",
   "execution_count": 8,
   "metadata": {},
   "outputs": [],
   "source": [
    "grabber.device_property_map.set_value(ic4.PropId.ACQUISITION_FRAME_RATE, 30)"
   ]
  },
  {
   "cell_type": "code",
   "execution_count": 9,
   "metadata": {},
   "outputs": [],
   "source": [
    "grabber.device_property_map.set_value(ic4.PropId.EXPOSURE_AUTO, \"Off\")\n",
    "grabber.device_property_map.set_value(ic4.PropId.EXPOSURE_TIME, 5000.0) # 单位：µs"
   ]
  },
  {
   "cell_type": "code",
   "execution_count": 11,
   "metadata": {},
   "outputs": [],
   "source": [
    "a"
   ]
  },
  {
   "cell_type": "code",
   "execution_count": 19,
   "metadata": {},
   "outputs": [
    {
     "data": {
      "text/plain": [
       "30.0"
      ]
     },
     "execution_count": 19,
     "metadata": {},
     "output_type": "execute_result"
    }
   ],
   "source": [
    "a = grabber.device_property_map.get_value_float(ic4.PropId.ACQUISITION_FRAME_RATE)\n",
    "a\n",
    "\n"
   ]
  },
  {
   "cell_type": "code",
   "execution_count": 14,
   "metadata": {},
   "outputs": [
    {
     "ename": "IC4Exception",
     "evalue": "(<ErrorCode.DeviceInvalid: 13>, 'ic4_prop_integer_get_value: Device has been closed')",
     "output_type": "error",
     "traceback": [
      "\u001b[1;31m---------------------------------------------------------------------------\u001b[0m",
      "\u001b[1;31mIC4Exception\u001b[0m                              Traceback (most recent call last)",
      "Cell \u001b[1;32mIn[14], line 1\u001b[0m\n\u001b[1;32m----> 1\u001b[0m \u001b[43ma\u001b[49m\u001b[38;5;241;43m.\u001b[39;49m\u001b[43mvalue\u001b[49m()\n",
      "File \u001b[1;32mc:\\ProgramData\\miniconda3\\envs\\qt\\lib\\site-packages\\imagingcontrol4\\properties.py:553\u001b[0m, in \u001b[0;36mPropInteger.value\u001b[1;34m(self)\u001b[0m\n\u001b[0;32m    551\u001b[0m v \u001b[38;5;241m=\u001b[39m ctypes\u001b[38;5;241m.\u001b[39mc_int64(\u001b[38;5;241m0\u001b[39m)\n\u001b[0;32m    552\u001b[0m \u001b[38;5;28;01mif\u001b[39;00m \u001b[38;5;129;01mnot\u001b[39;00m Library\u001b[38;5;241m.\u001b[39mcore\u001b[38;5;241m.\u001b[39mic4_prop_integer_get_value(\u001b[38;5;28mself\u001b[39m\u001b[38;5;241m.\u001b[39m_handle, ctypes\u001b[38;5;241m.\u001b[39mpointer(v)):\n\u001b[1;32m--> 553\u001b[0m     \u001b[43mIC4Exception\u001b[49m\u001b[38;5;241;43m.\u001b[39;49m\u001b[43mraise_exception_from_last_error\u001b[49m\u001b[43m(\u001b[49m\u001b[43m)\u001b[49m\n\u001b[0;32m    554\u001b[0m \u001b[38;5;28;01mreturn\u001b[39;00m v\u001b[38;5;241m.\u001b[39mvalue\n",
      "File \u001b[1;32mc:\\ProgramData\\miniconda3\\envs\\qt\\lib\\site-packages\\imagingcontrol4\\ic4exception.py:46\u001b[0m, in \u001b[0;36mIC4Exception.raise_exception_from_last_error\u001b[1;34m(cls)\u001b[0m\n\u001b[0;32m     44\u001b[0m     native_err \u001b[38;5;241m=\u001b[39m imagingcontrol4\u001b[38;5;241m.\u001b[39mnative\u001b[38;5;241m.\u001b[39mIC4_ERROR(code\u001b[38;5;241m.\u001b[39mvalue)\n\u001b[0;32m     45\u001b[0m     err \u001b[38;5;241m=\u001b[39m ErrorCode(native_err)\n\u001b[1;32m---> 46\u001b[0m     \u001b[38;5;28;01mraise\u001b[39;00m IC4Exception(err, message\u001b[38;5;241m.\u001b[39mvalue\u001b[38;5;241m.\u001b[39mdecode(\u001b[38;5;124m\"\u001b[39m\u001b[38;5;124mutf-8\u001b[39m\u001b[38;5;124m\"\u001b[39m))\n\u001b[0;32m     47\u001b[0m \u001b[38;5;28;01mexcept\u001b[39;00m \u001b[38;5;167;01mValueError\u001b[39;00m:\n\u001b[0;32m     48\u001b[0m     original_msg \u001b[38;5;241m=\u001b[39m message\u001b[38;5;241m.\u001b[39mvalue\u001b[38;5;241m.\u001b[39mdecode(\u001b[38;5;124m\"\u001b[39m\u001b[38;5;124mutf-8\u001b[39m\u001b[38;5;124m\"\u001b[39m)\n",
      "\u001b[1;31mIC4Exception\u001b[0m: (<ErrorCode.DeviceInvalid: 13>, 'ic4_prop_integer_get_value: Device has been closed')"
     ]
    }
   ],
   "source": [
    "a.value()"
   ]
  },
  {
   "cell_type": "code",
   "execution_count": 8,
   "metadata": {},
   "outputs": [],
   "source": [
    "sink = ic4.SnapSink()\n",
    "# Setup data stream from the video capture device to the sink and start image acquisition.\n",
    "grabber.stream_setup(sink, setup_option=ic4.StreamSetupOption.ACQUISITION_START)"
   ]
  },
  {
   "cell_type": "code",
   "execution_count": 11,
   "metadata": {},
   "outputs": [
    {
     "name": "stdout",
     "output_type": "stream",
     "text": [
      "Received an image. ImageType: [[[44128]\n",
      "  [44112]\n",
      "  [44144]\n",
      "  ...\n",
      "  [44304]\n",
      "  [44144]\n",
      "  [43904]]\n",
      "\n",
      " [[44560]\n",
      "  [43872]\n",
      "  [44016]\n",
      "  ...\n",
      "  [44448]\n",
      "  [44080]\n",
      "  [45104]]\n",
      "\n",
      " [[44096]\n",
      "  [43808]\n",
      "  [43200]\n",
      "  ...\n",
      "  [44704]\n",
      "  [45296]\n",
      "  [44240]]\n",
      "\n",
      " ...\n",
      "\n",
      " [[43760]\n",
      "  [43808]\n",
      "  [44560]\n",
      "  ...\n",
      "  [43504]\n",
      "  [43696]\n",
      "  [43024]]\n",
      "\n",
      " [[45008]\n",
      "  [43408]\n",
      "  [44256]\n",
      "  ...\n",
      "  [44000]\n",
      "  [43328]\n",
      "  [43312]]\n",
      "\n",
      " [[44320]\n",
      "  [43584]\n",
      "  [44112]\n",
      "  ...\n",
      "  [43680]\n",
      "  [43040]\n",
      "  [43664]]]\n"
     ]
    }
   ],
   "source": [
    "try:\n",
    "    # Grab a single image out of the data stream.\n",
    "    image = sink.snap_single(1000)\n",
    "    image_np = image.numpy_wrap()\n",
    "\n",
    "    # Print image information.\n",
    "    print(f\"Received an image. ImageType: {image_np}\")\n",
    "\n",
    "    # Save the image.\n",
    "    image.save_as_bmp(\"test.bmp\")\n",
    "\n",
    "except ic4.IC4Exception as ex:\n",
    "    print(ex.message)"
   ]
  },
  {
   "cell_type": "code",
   "execution_count": 1,
   "metadata": {},
   "outputs": [
    {
     "name": "stdout",
     "output_type": "stream",
     "text": [
      "开始采集（按Ctrl+C停止）...\n"
     ]
    },
    {
     "name": "stderr",
     "output_type": "stream",
     "text": [
      "Exception ignored in: <function Grabber.__del__ at 0x0000000008DD3430>\n",
      "Traceback (most recent call last):\n",
      "  File \"c:\\ProgramData\\miniconda3\\envs\\qt\\lib\\site-packages\\imagingcontrol4\\grabber.py\", line 98, in __del__\n",
      "    Library.core.ic4_grabber_unref(self._handle)\n",
      "  File \"c:\\ProgramData\\miniconda3\\envs\\qt\\lib\\site-packages\\imagingcontrol4\\library.py\", line 20, in core\n",
      "    raise RuntimeError(\"Library.init was not called\")\n",
      "RuntimeError: Library.init was not called\n",
      "Exception ignored in: <function DeviceInfo.__del__ at 0x0000000008DB2280>\n",
      "Traceback (most recent call last):\n",
      "  File \"c:\\ProgramData\\miniconda3\\envs\\qt\\lib\\site-packages\\imagingcontrol4\\devenum.py\", line 24, in __del__\n",
      "    Library.core.ic4_devinfo_unref(self._handle)\n",
      "  File \"c:\\ProgramData\\miniconda3\\envs\\qt\\lib\\site-packages\\imagingcontrol4\\library.py\", line 20, in core\n",
      "    raise RuntimeError(\"Library.init was not called\")\n",
      "RuntimeError: Library.init was not called\n"
     ]
    },
    {
     "name": "stdout",
     "output_type": "stream",
     "text": [
      "用户中断，停止采集\n"
     ]
    }
   ],
   "source": [
    "import imagingcontrol4 as ic4\n",
    "import numpy as np\n",
    "\n",
    "class NumpyCaptureListener(ic4.QueueSinkListener):\n",
    "    def __init__(self):\n",
    "        self.latest_frame = None\n",
    "    \n",
    "    def sink_connected(self, sink: ic4.QueueSink, image_type: ic4.ImageType, min_buffers_required: int) -> bool:\n",
    "        return True\n",
    "    \n",
    "    def frames_queued(self, sink: ic4.QueueSink):\n",
    "        buffer = sink.pop_output_buffer()\n",
    "        # 关键修复：直接使用 numpy_wrap() 无需 with\n",
    "        np_array = buffer.numpy_wrap()\n",
    "        self.latest_frame = np_array.copy()  # 复制数据确保安全\n",
    "\n",
    "def capture_image_to_numpy():\n",
    "    ic4.Library.init()\n",
    "    \n",
    "    try:\n",
    "        device_list = ic4.DeviceEnum.devices()\n",
    "        if not device_list:\n",
    "            raise RuntimeError(\"未找到可用设备\")\n",
    "        dev_info = device_list[0]\n",
    "\n",
    "\n",
    "        grabber = ic4.Grabber()\n",
    "        grabber.device_open(dev_info)  # 注意原代码此处可能有拼写错误，应为 device_open\n",
    "        \n",
    "        listener = NumpyCaptureListener()\n",
    "        sink = ic4.QueueSink(\n",
    "            listener, \n",
    "            [ic4.PixelFormat.Mono16], \n",
    "            max_output_buffers=1\n",
    "        )\n",
    "        grabber.stream_setup(sink)\n",
    "        \n",
    "        print(\"开始采集（按Ctrl+C停止）...\")\n",
    "        while True:\n",
    "            if listener.latest_frame is not None:\n",
    "                print(f\"捕获图像形状: {listener.latest_frame.shape}\")\n",
    "                listener.latest_frame = None\n",
    "                \n",
    "    except KeyboardInterrupt:\n",
    "        print(\"用户中断，停止采集\")\n",
    "    finally:\n",
    "        if 'grabber' in locals():\n",
    "            grabber.stream_stop()\n",
    "            grabber.device_close()\n",
    "        ic4.Library.exit()\n",
    "\n",
    "if __name__ == \"__main__\":\n",
    "    capture_image_to_numpy()"
   ]
  },
  {
   "cell_type": "code",
   "execution_count": 4,
   "metadata": {},
   "outputs": [
    {
     "name": "stdout",
     "output_type": "stream",
     "text": [
      "开始采集（按 'q' 停止）...\n"
     ]
    },
    {
     "name": "stderr",
     "output_type": "stream",
     "text": [
      "Exception ignored in: <function Grabber.__del__ at 0x0000000008DD3430>\n",
      "Traceback (most recent call last):\n",
      "  File \"c:\\ProgramData\\miniconda3\\envs\\qt\\lib\\site-packages\\imagingcontrol4\\grabber.py\", line 98, in __del__\n",
      "    Library.core.ic4_grabber_unref(self._handle)\n",
      "  File \"c:\\ProgramData\\miniconda3\\envs\\qt\\lib\\site-packages\\imagingcontrol4\\library.py\", line 20, in core\n",
      "    raise RuntimeError(\"Library.init was not called\")\n",
      "RuntimeError: Library.init was not called\n",
      "Exception ignored in: <function DeviceInfo.__del__ at 0x0000000008DB2280>\n",
      "Traceback (most recent call last):\n",
      "  File \"c:\\ProgramData\\miniconda3\\envs\\qt\\lib\\site-packages\\imagingcontrol4\\devenum.py\", line 24, in __del__\n",
      "    Library.core.ic4_devinfo_unref(self._handle)\n",
      "  File \"c:\\ProgramData\\miniconda3\\envs\\qt\\lib\\site-packages\\imagingcontrol4\\library.py\", line 20, in core\n",
      "    raise RuntimeError(\"Library.init was not called\")\n",
      "RuntimeError: Library.init was not called\n"
     ]
    }
   ],
   "source": [
    "import imagingcontrol4 as ic4\n",
    "import numpy as np\n",
    "import cv2\n",
    "\n",
    "class NumpyCaptureListener(ic4.QueueSinkListener):\n",
    "    def __init__(self):\n",
    "        self.latest_frame = None  # 存储最新帧的NumPy数组\n",
    "    \n",
    "    def sink_connected(self, sink: ic4.QueueSink, image_type: ic4.ImageType, min_buffers_required: int) -> bool:\n",
    "        return True  # 接受所有图像格式配置\n",
    "    \n",
    "    def frames_queued(self, sink: ic4.QueueSink):\n",
    "        buffer = sink.pop_output_buffer()\n",
    "        # 将图像数据转换为NumPy数组（假设像素格式为BGR8，与OpenCV兼容）\n",
    "        np_array = buffer.numpy_wrap()\n",
    "        self.latest_frame = np_array.copy()  # 必须复制数据，确保缓冲区释放后数据有效\n",
    "\n",
    "def capture_and_display():\n",
    "    ic4.Library.init()\n",
    "    \n",
    "    try:\n",
    "        # 枚举并选择第一个可用设备\n",
    "        device_list = ic4.DeviceEnum.devices()\n",
    "        if not device_list:\n",
    "            raise RuntimeError(\"未找到可用设备\")\n",
    "        dev_info = device_list[0]\n",
    "        # print(f\"正在连接设备: {dev_info.display_name}\")\n",
    "\n",
    "        # 创建设备并配置流\n",
    "        grabber = ic4.Grabber()\n",
    "        grabber.device_open(dev_info)\n",
    "        \n",
    "        # 创建监听器并配置队列Sink\n",
    "        listener = NumpyCaptureListener()\n",
    "        sink = ic4.QueueSink(\n",
    "            listener, \n",
    "            [ic4.PixelFormat.Mono8],  # 指定BGR8格式，与OpenCV兼容\n",
    "            max_output_buffers=1      # 仅保留最新帧\n",
    "        )\n",
    "        grabber.stream_setup(sink)\n",
    "        \n",
    "        # 启动采集\n",
    "        print(\"开始采集（按 'q' 停止）...\")\n",
    "        while True:\n",
    "            if listener.latest_frame is not None:\n",
    "                # 使用OpenCV显示图像\n",
    "                cv2.imshow(\"Camera Feed\", listener.latest_frame)\n",
    "                listener.latest_frame = None  # 清除已处理帧\n",
    "            \n",
    "            # 检测按键输入（每1毫秒检查一次）\n",
    "            key = cv2.waitKey(1)\n",
    "            if key == ord('q'):  # 按 'q' 退出\n",
    "                break\n",
    "\n",
    "    except Exception as e:\n",
    "        print(f\"错误发生: {e}\")\n",
    "    finally:\n",
    "        # 清理资源\n",
    "        if 'grabber' in locals():\n",
    "            grabber.stream_stop()\n",
    "            grabber.device_close()\n",
    "        cv2.destroyAllWindows()  # 关闭所有OpenCV窗口\n",
    "        ic4.Library.exit()\n",
    "\n",
    "if __name__ == \"__main__\":\n",
    "    capture_and_display()"
   ]
  },
  {
   "cell_type": "code",
   "execution_count": 3,
   "metadata": {},
   "outputs": [],
   "source": [
    "import cv2"
   ]
  },
  {
   "cell_type": "code",
   "execution_count": null,
   "metadata": {},
   "outputs": [
    {
     "data": {
      "text/plain": [
       "(1024, 1024, 1)"
      ]
     },
     "execution_count": 154,
     "metadata": {},
     "output_type": "execute_result"
    }
   ],
   "source": [
    "image_np.shape"
   ]
  },
  {
   "cell_type": "code",
   "execution_count": null,
   "metadata": {},
   "outputs": [],
   "source": [
    "import numpy as np"
   ]
  }
 ],
 "metadata": {
  "kernelspec": {
   "display_name": "qt",
   "language": "python",
   "name": "python3"
  },
  "language_info": {
   "codemirror_mode": {
    "name": "ipython",
    "version": 3
   },
   "file_extension": ".py",
   "mimetype": "text/x-python",
   "name": "python",
   "nbconvert_exporter": "python",
   "pygments_lexer": "ipython3",
   "version": "3.8.19"
  }
 },
 "nbformat": 4,
 "nbformat_minor": 2
}
